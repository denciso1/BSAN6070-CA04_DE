{
  "nbformat": 4,
  "nbformat_minor": 0,
  "metadata": {
    "colab": {
      "name": "CA04–Ensemble_Models_Algorithm.ipynb",
      "provenance": [],
      "collapsed_sections": []
    },
    "kernelspec": {
      "name": "python3",
      "display_name": "Python 3"
    }
  },
  "cells": [
    {
      "cell_type": "markdown",
      "metadata": {
        "id": "2PnY7ofIUsci"
      },
      "source": [
        "# **Daniel Enciso**\n",
        "# **CA04–Ensemble_Models_Algorithm**\n",
        "\n",
        "\n",
        "\n"
      ]
    },
    {
      "cell_type": "code",
      "metadata": {
        "id": "uh0WGI39FTVJ"
      },
      "source": [
        "#Importing needed programs  \n",
        "import numpy as np\n",
        "import pandas as pd\n",
        "from pandas import DataFrame\n",
        "\n",
        "import matplotlib.pyplot as plt\n",
        "\n",
        "from sklearn.preprocessing import LabelEncoder\n",
        "from sklearn.metrics import roc_auc_score\n",
        "\n",
        "from sklearn.tree import DecisionTreeClassifier\n",
        "from sklearn.ensemble import RandomForestClassifier, AdaBoostClassifier\n",
        "from sklearn.ensemble import GradientBoostingClassifier, GradientBoostingRegressor  \n",
        "from sklearn import metrics\n",
        "\n",
        "#pip install xgboost\n",
        "from sklearn import datasets\n",
        "import xgboost as xgb\n",
        "from xgboost import XGBRegressor\n",
        "from xgboost import XGBClassifier"
      ],
      "execution_count": 87,
      "outputs": []
    },
    {
      "cell_type": "code",
      "metadata": {
        "id": "OKfnkr8uG7gI"
      },
      "source": [
        "#Mounting GoogleDrive in order to read the needed file\n",
        "from google.colab import drive\n",
        "drive.mount('/content/drive')\n"
      ],
      "execution_count": null,
      "outputs": []
    },
    {
      "cell_type": "markdown",
      "metadata": {
        "id": "D36pLalyJNKG"
      },
      "source": [
        "#1. Data Source and Contents"
      ]
    },
    {
      "cell_type": "code",
      "metadata": {
        "id": "voXGWYRhHnOv"
      },
      "source": [
        "#read the dataset using read_csv (Make sure your file is saved to a Google drive file similar to this path)\n",
        "#note that later in the process, we will break out this csv file into two datatsets ('train' and 'test' files)\n",
        "census_data = pd.read_csv('/content/drive/My Drive/MSBA_Colab_2020/ML_Algorithms/CA04/census_data.csv')"
      ],
      "execution_count": null,
      "outputs": []
    },
    {
      "cell_type": "code",
      "metadata": {
        "id": "yQ9ApYFHJoHf"
      },
      "source": [
        "#Returns a number of rows and columns in the 'data' datatset\n",
        "census_data.shape"
      ],
      "execution_count": null,
      "outputs": []
    },
    {
      "cell_type": "code",
      "metadata": {
        "id": "frtBGvQaHWF6"
      },
      "source": [
        "#We obtain the descriptive statistics that summarize the central tendancy, dispersion, and shape of the dataset's distribution excluding NaN values. \n",
        "census_data.describe()\n",
        "#here we see that only one column has numerical values. \n",
        "#Number of target classes (Column 'y'): 2 ('>50K' and '<=50K') [ Labels: 1, 0 ]"
      ],
      "execution_count": null,
      "outputs": []
    },
    {
      "cell_type": "code",
      "metadata": {
        "id": "b6oypjOpJW06"
      },
      "source": [
        "#Reflects number of non-null values in each column. \n",
        "census_data.count()"
      ],
      "execution_count": null,
      "outputs": []
    },
    {
      "cell_type": "code",
      "metadata": {
        "id": "Rbaluy6gJHuJ"
      },
      "source": [
        "#Returns the number of null values on each column. \n",
        "census_data.isnull().sum()\n",
        "#The results confirm that there are no null values. "
      ],
      "execution_count": null,
      "outputs": []
    },
    {
      "cell_type": "code",
      "metadata": {
        "id": "wPrgPwkDKF3g"
      },
      "source": [
        "#We obtain the range, columnn, number of non-null objects of each column, datatype and memory usage. \n",
        "census_data.info()"
      ],
      "execution_count": null,
      "outputs": []
    },
    {
      "cell_type": "code",
      "metadata": {
        "id": "d0ZSfYfTKWtb"
      },
      "source": [
        "#We obtain a preview of the first five records fo our dataset.\n",
        "census_data.head()"
      ],
      "execution_count": null,
      "outputs": []
    },
    {
      "cell_type": "code",
      "metadata": {
        "id": "9I8CdMTsPPFb"
      },
      "source": [
        "#Here we separtae the 'train' dataset from the'test' dataset.\n",
        "split_values = census_data['flag'].unique()\n",
        "print(split_values)\n",
        "\n",
        "for value in split_values:\n",
        "    train_data = census_data[census_data['flag']== 'train']\n",
        "    test_data = census_data[census_data['flag']== 'test']\n"
      ],
      "execution_count": null,
      "outputs": []
    },
    {
      "cell_type": "code",
      "metadata": {
        "id": "xITGZK7hQyLB"
      },
      "source": [
        "#view the first five records of the train dataset to esure it was processed correctly\n",
        "train_data.head()"
      ],
      "execution_count": null,
      "outputs": []
    },
    {
      "cell_type": "code",
      "metadata": {
        "id": "MkJNrv3oRHZH"
      },
      "source": [
        "#view the first five records of the test dataset to esure it was processed correctly\n",
        "test_data.head()"
      ],
      "execution_count": null,
      "outputs": []
    },
    {
      "cell_type": "code",
      "metadata": {
        "id": "dwlvy8nvRPkT"
      },
      "source": [
        "#We will drop column 'flag' since we now have two different files, each labled train & test respectively. \n",
        "train_data.drop('flag', axis=1,inplace=True)\n",
        "test_data.drop('flag', axis=1,inplace=True)"
      ],
      "execution_count": null,
      "outputs": []
    },
    {
      "cell_type": "code",
      "metadata": {
        "id": "R5vTBYSLR_Qx"
      },
      "source": [
        "test_data.head()"
      ],
      "execution_count": null,
      "outputs": []
    },
    {
      "cell_type": "markdown",
      "metadata": {
        "id": "3e5pQNx9-ZR7"
      },
      "source": [
        "# Build Decision Tree Classifier Models"
      ]
    },
    {
      "cell_type": "code",
      "metadata": {
        "id": "Ec0IMnqV4-33"
      },
      "source": [
        "# Here we are exporting feature coulumns as categorical values\n",
        "for feat_val in ['hours_per_week_bin',\n",
        "          'occupation_bin',\n",
        "          'msr_bin',\n",
        "          'capital_gl_bin',\n",
        "          'race_sex_bin',\n",
        "          'education_num_bin',\n",
        "          'education_bin',\n",
        "          'workclass_bin',\n",
        "          'age_bin']:\n",
        "    census_data[feat_val] = census_data[feat_val].astype('category')"
      ],
      "execution_count": null,
      "outputs": []
    },
    {
      "cell_type": "code",
      "metadata": {
        "id": "hR3leOhr4-0E"
      },
      "source": [
        "#We are now applying the label encoder\n",
        "census_data[['hours_per_week_bin',\n",
        "          'occupation_bin',\n",
        "          'msr_bin',\n",
        "          'capital_gl_bin',\n",
        "          'race_sex_bin',\n",
        "          'education_num_bin',\n",
        "          'education_bin',\n",
        "          'workclass_bin',\n",
        "          'age_bin']]=census_data[['hours_per_week_bin',\n",
        "          'occupation_bin',\n",
        "          'msr_bin',\n",
        "          'capital_gl_bin',\n",
        "          'race_sex_bin',\n",
        "          'education_num_bin',\n",
        "          'education_bin',\n",
        "          'workclass_bin',\n",
        "          'age_bin']].apply(LabelEncoder().fit_transform)"
      ],
      "execution_count": null,
      "outputs": []
    },
    {
      "cell_type": "code",
      "metadata": {
        "id": "fkoMy51y-vvv"
      },
      "source": [
        "#Generate the first few records to confirm the lable encoder worked properly\n",
        "census_data.head(10)"
      ],
      "execution_count": null,
      "outputs": []
    },
    {
      "cell_type": "code",
      "metadata": {
        "id": "VCnmNML94-wx"
      },
      "source": [
        "#Run the for loop again on the newly transformed data set, in order to create our train/test daatsets.\n",
        "for value in split_values:\n",
        "    train_data = census_data[census_data['flag']== 'train']\n",
        "    test_data = census_data[census_data['flag']== 'test']\n",
        "\n",
        "#We will drop column 'flag' since we now have two different files, each labled train & test respectively.\n",
        "train_data.drop('flag', axis=1,inplace=True)\n",
        "test_data.drop('flag', axis=1,inplace=True)"
      ],
      "execution_count": null,
      "outputs": []
    },
    {
      "cell_type": "code",
      "metadata": {
        "id": "EcYETqs24-uD"
      },
      "source": [
        "#We must now breakout each dataset into attributes and labels. \n",
        "x_train = train_data.drop('y',axis=1)\n",
        "y_train = train_data['y']\n",
        "x_test = test_data.drop('y',axis=1)\n",
        "y_test = test_data['y']"
      ],
      "execution_count": null,
      "outputs": []
    },
    {
      "cell_type": "markdown",
      "metadata": {
        "id": "s1Z4_W0Ak8Xa"
      },
      "source": [
        "#2. Finding Optimal Value of a key Hyper-parameter"
      ]
    },
    {
      "cell_type": "markdown",
      "metadata": {
        "id": "QQtcdcAzqBdB"
      },
      "source": [
        "For Ensemble Models, one of the key hyper-parameter is number of “estimators”.\n",
        "Following is an example of fining the optimal value of “Maximum Depth”. Review the\n",
        "following code snippet to understand how the optimal value of this hyper-parameter\n",
        "(Max Depth = 10) is found by plotting a graph."
      ]
    },
    {
      "cell_type": "code",
      "metadata": {
        "id": "m2TN-0hjk4ES"
      },
      "source": [
        "results = []\n",
        "max_depth_options = [2,4,6,8,10,12,14,16,18,20]\n",
        "for trees in max_depth_options:\n",
        "    model = DecisionTreeClassifier(max_depth=trees, random_state=101)\n",
        "    model.fit(x_train, y_train)\n",
        "    y_pred = model.predict(x_test)\n",
        "    accuracy = np.mean(y_test==y_pred)\n",
        "    results.append(accuracy)\n",
        "\n",
        "plt.figure(figsize=(8,4))\n",
        "pd.Series(results, max_depth_options).plot(color='darkred',marker='o', grid=True)"
      ],
      "execution_count": null,
      "outputs": []
    },
    {
      "cell_type": "markdown",
      "metadata": {
        "id": "P3-HszDplamo"
      },
      "source": [
        "#3. Building a Random Forest Model"
      ]
    },
    {
      "cell_type": "markdown",
      "metadata": {
        "id": "1NXP69qjoMF-"
      },
      "source": [
        "Using Notebook, and the same data source from CA03, train a Random Forest Model.\n",
        "Using similar approach of Section 2 above, plot a graph of Accuracy vs. n_estimator.\n",
        "Use n_estimator values as [50,100,150,200,250,300,350,400,450,500]."
      ]
    },
    {
      "cell_type": "code",
      "metadata": {
        "colab": {
          "base_uri": "https://localhost:8080/",
          "height": 392
        },
        "id": "_Ob-vuITlZRx",
        "outputId": "05dbc214-c056-48ee-dea1-148813fc1979"
      },
      "source": [
        "results = []\n",
        "max_depth_options = [50,100,150,200,250,300,350,400,450,500]\n",
        "for trees in max_depth_options:\n",
        "    model = RandomForestClassifier(n_estimators=trees, random_state=0)\n",
        "    model.fit(x_train, y_train)\n",
        "    y_pred = model.predict(x_test)\n",
        "    accuracy = np.mean(y_test==y_pred)\n",
        "    results.append(accuracy)\n",
        "\n",
        "plt.figure(figsize=(8,6))\n",
        "pd.Series(results, max_depth_options).plot(color='darkred',marker='o', grid=True)"
      ],
      "execution_count": 73,
      "outputs": [
        {
          "output_type": "execute_result",
          "data": {
            "text/plain": [
              "<matplotlib.axes._subplots.AxesSubplot at 0x7fceb83bfcd0>"
            ]
          },
          "metadata": {
            "tags": []
          },
          "execution_count": 73
        },
        {
          "output_type": "display_data",
          "data": {
            "image/png": "[encoded data removed]",
            "text/plain": [
              "<Figure size 576x432 with 1 Axes>"
            ]
          },
          "metadata": {
            "tags": [],
            "needs_background": "light"
          }
        }
      ]
    },
    {
      "cell_type": "markdown",
      "metadata": {
        "id": "qC-ajLptppGu"
      },
      "source": [
        "Answer the following question:\n",
        "1. Write your observations about the Classifier’s behavior with respect to the\n",
        "number of estimators\n"
      ]
    },
    {
      "cell_type": "markdown",
      "metadata": {
        "id": "ahGHK8_5pxRS"
      },
      "source": [
        "The classifier's behavior with respect to the number of estimators is that it dropped at about 150, however it kept increasing afterwards."
      ]
    },
    {
      "cell_type": "markdown",
      "metadata": {
        "id": "Wdze5FXPpvpk"
      },
      "source": [
        "2. Is there an optimal value of the estimator within the given range?"
      ]
    },
    {
      "cell_type": "markdown",
      "metadata": {
        "id": "vVMAUl4TqYQr"
      },
      "source": [
        "Yes, the optimal value is 500. "
      ]
    },
    {
      "cell_type": "code",
      "metadata": {
        "colab": {
          "base_uri": "https://localhost:8080/"
        },
        "id": "rpsfsEZFyYdB",
        "outputId": "745b8e9c-fc7f-4512-9aed-b071fb5537be"
      },
      "source": [
        "#Random Forest code\n",
        "RF_clf = RandomForestClassifier(n_estimators=100,random_state=0)\n",
        "RF_clf.fit(x_train, y_train)\n",
        "RF_y_pred = RF_clf.predict(x_test)\n",
        "\n",
        "#Printing the accuracy score of our random forest code\n",
        "\n",
        "RF_accu=metrics.accuracy_score(y_test, RF_y_pred)\n",
        "RF_AUC=roc_auc_score(y_test, RF_y_pred)\n",
        "print(\"Random Forest Accuracy\", metrics.accuracy_score(y_test, RF_y_pred))\n",
        "print(\"Random Forest AUC\",roc_auc_score(y_test, RF_y_pred))"
      ],
      "execution_count": 100,
      "outputs": [
        {
          "output_type": "stream",
          "text": [
            "Random Forest Accuracy 0.8374792703150912\n",
            "Random Forest AUC 0.7465207221075333\n"
          ],
          "name": "stdout"
        }
      ]
    },
    {
      "cell_type": "markdown",
      "metadata": {
        "id": "UDc0ur_62XTa"
      },
      "source": [
        "# 4. Building AdaBoost, Gradient Boost (classifier) and XGB Model"
      ]
    },
    {
      "cell_type": "code",
      "metadata": {
        "colab": {
          "base_uri": "https://localhost:8080/"
        },
        "id": "ImWyJw1y2WlU",
        "outputId": "0d1e5bc3-5f16-4910-fec9-860b40cf5199"
      },
      "source": [
        "#Running the AdaBoost code\n",
        "AB_clf = AdaBoostClassifier(n_estimators=100, random_state=0)\n",
        "AB_clf.fit(x_train, y_train)\n",
        "AB_y_pred = AB_clf.predict(x_test)\n",
        "\n",
        "AB_accu=metrics.accuracy_score(y_test, AB_y_pred)\n",
        "AB_AUC=roc_auc_score(y_test, AB_y_pred)\n",
        "print(\"AdaBoost Accuracy\", metrics.accuracy_score(y_test, AB_y_pred))\n",
        "print(\"AdaBoost AUC\",roc_auc_score(y_test, AB_y_pred))"
      ],
      "execution_count": 99,
      "outputs": [
        {
          "output_type": "stream",
          "text": [
            "AdaBoost Accuracy 0.8449112462379461\n",
            "AdaBoost AUC 0.7460880510009302\n"
          ],
          "name": "stdout"
        }
      ]
    },
    {
      "cell_type": "code",
      "metadata": {
        "colab": {
          "base_uri": "https://localhost:8080/"
        },
        "id": "pzLPJ4lCy762",
        "outputId": "23b47f86-95ea-4479-b134-b3d534919c79"
      },
      "source": [
        "#Running the GradientBoost code\n",
        "GB_clf = GradientBoostingClassifier(n_estimators=100, random_state=0)\n",
        "GB_clf.fit(x_train, y_train)\n",
        "GB_y_pred = GB_clf.predict(x_test)\n",
        "\n",
        "GB_accu=metrics.accuracy_score(y_test, GB_y_pred)\n",
        "GB_AUC=roc_auc_score(y_test, GB_y_pred)\n",
        "print(\"Gradient Boost Accuracy\", metrics.accuracy_score(y_test, GB_y_pred))\n",
        "print(\"Gradient Boost AUC\",roc_auc_score(y_test, GB_y_pred))"
      ],
      "execution_count": 76,
      "outputs": [
        {
          "output_type": "stream",
          "text": [
            "Gradient Boost Accuracy 0.8466310423192679\n",
            "Gradient Boost AUC 0.756732293417189\n"
          ],
          "name": "stdout"
        }
      ]
    },
    {
      "cell_type": "code",
      "metadata": {
        "colab": {
          "base_uri": "https://localhost:8080/"
        },
        "id": "c6kEafPB2SDG",
        "outputId": "393ade7b-9f09-483e-c837-431f081f4c2c"
      },
      "source": [
        "#Running the XGB Model\n",
        "\n",
        "XGB_clf = XGBClassifier(n_estimators=100, random_state=0)\n",
        "XGB_clf.fit(x_train, y_train)\n",
        "XGB_y_pred = XGB_clf.predict(x_test)\n",
        "\n",
        "XGB_accu=metrics.accuracy_score(y_test, XGB_y_pred)\n",
        "XGB_AUC=roc_auc_score(y_test, XGB_y_pred)\n",
        "print(\"XGB Accuracy\", metrics.accuracy_score(y_test, XGB_y_pred))\n",
        "print(\"XGB AUC\",roc_auc_score(y_test, XGB_y_pred))"
      ],
      "execution_count": 90,
      "outputs": [
        {
          "output_type": "stream",
          "text": [
            "XGB Accuracy 0.847122412628217\n",
            "XGB AUC 0.756784577776356\n"
          ],
          "name": "stdout"
        }
      ]
    },
    {
      "cell_type": "code",
      "metadata": {
        "colab": {
          "base_uri": "https://localhost:8080/"
        },
        "id": "tQ2vr4HSewbe",
        "outputId": "7f39f740-7e8c-4bb5-8c31-108e8f6b4693"
      },
      "source": [
        "#Printing the comparison table\n",
        "df = DataFrame ([[RF_accu,RF_AUC],[AB_accu,AB_AUC],[GB_accu,GB_AUC],[XGB_accu,XGB_AUC]], columns=['Accuracy', 'AUC'], index=['Random Forest','AdaBoost','Gradient Booost','XGB'])\n",
        "print('*Performance Comparison Table*')\n",
        "print(df)"
      ],
      "execution_count": 98,
      "outputs": [
        {
          "output_type": "stream",
          "text": [
            "*Performance Comparison Table*\n",
            "                 Accuracy       AUC\n",
            "Random Forest    0.837664  0.747090\n",
            "AdaBoost         0.844788  0.746008\n",
            "Gradient Booost  0.846631  0.756732\n",
            "XGB              0.847122  0.756785\n"
          ],
          "name": "stdout"
        }
      ]
    },
    {
      "cell_type": "code",
      "metadata": {
        "colab": {
          "base_uri": "https://localhost:8080/"
        },
        "id": "5GN_01OJoJz2",
        "outputId": "ecf72a70-07b9-4cc0-ff53-d4409653267c"
      },
      "source": [
        "print('Common Parameters')\n",
        "print('n_estimators = 100')\n",
        "print('random_state = 0') "
      ],
      "execution_count": 95,
      "outputs": [
        {
          "output_type": "stream",
          "text": [
            "Common Parameters\n",
            "n_estimators = 100\n",
            "random_state = 0\n"
          ],
          "name": "stdout"
        }
      ]
    }
  ]
}